{
 "cells": [
  {
   "cell_type": "markdown",
   "id": "214c5b4a-a951-4b34-b637-838b4c7a8714",
   "metadata": {
    "jp-MarkdownHeadingCollapsed": true,
    "tags": []
   },
   "source": [
    "# **Solução do problema**"
   ]
  },
  {
   "cell_type": "markdown",
   "id": "638e4e5f-dd7a-4b0b-b59b-818009586deb",
   "metadata": {},
   "source": [
    "-- Objetivo do problema:\n",
    "    -- Previsão do 1º destino que um novo usuário irá escolher.\n",
    "    -- Porque?\n",
    "        -- Qual o tipo de modelo de negócio do Airbnb\n",
    "            -- Marketplace (Conecta pessoas que oferecem acomodação com pessoas que procuram acomodação)\n",
    "            -- Oferta (Pessoas oferecendo acomodacao)\n",
    "                -- Tamanho do portfólio\n",
    "                -- Diversidade/Densidade de portfólio\n",
    "            -- Demanda (Pessoas procurando acomodacao)\n",
    "                -- Número de usuários\n",
    "                -- LTV (Life Time Value)\n",
    "                -- CAC (Client Aquisition Cost)\n",
    "                \n",
    "    > Gross Revenue = (Preco medio * numero de cliente) - CAC\n",
    "            \n",
    "-- Proposta da solucao:\n",
    "    -- Modelo de previsao do primeiro destino de um usuário\n",
    "        -- Predicoes e salvar em tabela no banco de dados\n",
    "        -- API\n",
    "            -- Input: usuario e caracteristicas\n",
    "            -- Output: usuarios, caracteristicas e *predicao do destino*"
   ]
  },
  {
   "cell_type": "markdown",
   "id": "425d81ef-8915-470d-b64a-ee7944d1ed0e",
   "metadata": {
    "tags": []
   },
   "source": [
    "# 0.0 Imports"
   ]
  },
  {
   "cell_type": "code",
   "execution_count": 1,
   "id": "cbc4a398-841a-4d87-96e5-c32f3f5992ed",
   "metadata": {},
   "outputs": [
    {
     "name": "stderr",
     "output_type": "stream",
     "text": [
      "2022-12-08 10:51:26.152749: I tensorflow/core/platform/cpu_feature_guard.cc:193] This TensorFlow binary is optimized with oneAPI Deep Neural Network Library (oneDNN) to use the following CPU instructions in performance-critical operations:  AVX2 FMA\n",
      "To enable them in other operations, rebuild TensorFlow with the appropriate compiler flags.\n",
      "2022-12-08 10:51:26.855008: W tensorflow/compiler/xla/stream_executor/platform/default/dso_loader.cc:64] Could not load dynamic library 'libcudart.so.11.0'; dlerror: libcudart.so.11.0: cannot open shared object file: No such file or directory\n",
      "2022-12-08 10:51:26.855057: I tensorflow/compiler/xla/stream_executor/cuda/cudart_stub.cc:29] Ignore above cudart dlerror if you do not have a GPU set up on your machine.\n",
      "2022-12-08 10:51:30.774575: W tensorflow/compiler/xla/stream_executor/platform/default/dso_loader.cc:64] Could not load dynamic library 'libnvinfer.so.7'; dlerror: libnvinfer.so.7: cannot open shared object file: No such file or directory\n",
      "2022-12-08 10:51:30.775001: W tensorflow/compiler/xla/stream_executor/platform/default/dso_loader.cc:64] Could not load dynamic library 'libnvinfer_plugin.so.7'; dlerror: libnvinfer_plugin.so.7: cannot open shared object file: No such file or directory\n",
      "2022-12-08 10:51:30.775014: W tensorflow/compiler/tf2tensorrt/utils/py_utils.cc:38] TF-TRT Warning: Cannot dlopen some TensorRT libraries. If you would like to use Nvidia GPU with TensorRT, please make sure the missing libraries mentioned above are installed properly.\n"
     ]
    }
   ],
   "source": [
    "import pandas as pd\n",
    "import random\n",
    "import seaborn as sns\n",
    "\n",
    "\n",
    "from sklearn    import model_selection as ms\n",
    "from sklearn    import preprocessing   as pp\n",
    "from sklearn    import metrics         as m\n",
    "from scikitplot import metrics         as mt\n",
    "\n",
    "from keras      import models          as ml\n",
    "from keras      import layers          as l"
   ]
  },
  {
   "cell_type": "markdown",
   "id": "f0071fa2-a2e1-44ba-9d80-b5aa749d39f1",
   "metadata": {},
   "source": [
    "## 0.1 Helper Functions"
   ]
  },
  {
   "cell_type": "code",
   "execution_count": null,
   "id": "ae6086ff-7e50-478e-a85c-cd40fac5541a",
   "metadata": {},
   "outputs": [],
   "source": []
  },
  {
   "cell_type": "markdown",
   "id": "7d6f4d76-badb-4ec6-b1ea-3df1dd89a41a",
   "metadata": {},
   "source": [
    "## 0.2 Loading Data"
   ]
  },
  {
   "cell_type": "code",
   "execution_count": 2,
   "id": "c5abb784-4d20-4a68-a18c-1b0d0cfa29c3",
   "metadata": {},
   "outputs": [],
   "source": [
    "df_raw = pd.read_csv('../datasets/train_users_2.csv', low_memory=True)"
   ]
  },
  {
   "cell_type": "code",
   "execution_count": 3,
   "id": "5f22f98d-d58f-4408-932b-5877901a002d",
   "metadata": {},
   "outputs": [],
   "source": [
    "df_sessions = pd.read_csv('../datasets/sessions.csv', low_memory=True)"
   ]
  },
  {
   "cell_type": "markdown",
   "id": "6c438cd9-1a6b-4423-baa0-986f359dd265",
   "metadata": {},
   "source": [
    "# 1.0 Data Description"
   ]
  },
  {
   "cell_type": "code",
   "execution_count": 4,
   "id": "b712aab2-de91-45f6-b1e1-1723db1abba8",
   "metadata": {},
   "outputs": [],
   "source": [
    "df1 = df_raw.copy()"
   ]
  },
  {
   "cell_type": "markdown",
   "id": "b81adabd-c13f-463c-bc87-90cde9f2c99d",
   "metadata": {
    "tags": []
   },
   "source": [
    "## 1.1 Users:"
   ]
  },
  {
   "cell_type": "code",
   "execution_count": 5,
   "id": "cbd849c8-1cf2-40e3-bc73-4a2a72435ae8",
   "metadata": {},
   "outputs": [
    {
     "data": {
      "text/html": [
       "<div>\n",
       "<style scoped>\n",
       "    .dataframe tbody tr th:only-of-type {\n",
       "        vertical-align: middle;\n",
       "    }\n",
       "\n",
       "    .dataframe tbody tr th {\n",
       "        vertical-align: top;\n",
       "    }\n",
       "\n",
       "    .dataframe thead th {\n",
       "        text-align: right;\n",
       "    }\n",
       "</style>\n",
       "<table border=\"1\" class=\"dataframe\">\n",
       "  <thead>\n",
       "    <tr style=\"text-align: right;\">\n",
       "      <th></th>\n",
       "      <th>id</th>\n",
       "      <th>date_account_created</th>\n",
       "      <th>timestamp_first_active</th>\n",
       "      <th>date_first_booking</th>\n",
       "      <th>gender</th>\n",
       "      <th>age</th>\n",
       "      <th>signup_method</th>\n",
       "      <th>signup_flow</th>\n",
       "      <th>language</th>\n",
       "      <th>affiliate_channel</th>\n",
       "      <th>affiliate_provider</th>\n",
       "      <th>first_affiliate_tracked</th>\n",
       "      <th>signup_app</th>\n",
       "      <th>first_device_type</th>\n",
       "      <th>first_browser</th>\n",
       "      <th>country_destination</th>\n",
       "    </tr>\n",
       "  </thead>\n",
       "  <tbody>\n",
       "    <tr>\n",
       "      <th>0</th>\n",
       "      <td>gxn3p5htnn</td>\n",
       "      <td>2010-06-28</td>\n",
       "      <td>20090319043255</td>\n",
       "      <td>NaN</td>\n",
       "      <td>-unknown-</td>\n",
       "      <td>NaN</td>\n",
       "      <td>facebook</td>\n",
       "      <td>0</td>\n",
       "      <td>en</td>\n",
       "      <td>direct</td>\n",
       "      <td>direct</td>\n",
       "      <td>untracked</td>\n",
       "      <td>Web</td>\n",
       "      <td>Mac Desktop</td>\n",
       "      <td>Chrome</td>\n",
       "      <td>NDF</td>\n",
       "    </tr>\n",
       "    <tr>\n",
       "      <th>1</th>\n",
       "      <td>820tgsjxq7</td>\n",
       "      <td>2011-05-25</td>\n",
       "      <td>20090523174809</td>\n",
       "      <td>NaN</td>\n",
       "      <td>MALE</td>\n",
       "      <td>38.0</td>\n",
       "      <td>facebook</td>\n",
       "      <td>0</td>\n",
       "      <td>en</td>\n",
       "      <td>seo</td>\n",
       "      <td>google</td>\n",
       "      <td>untracked</td>\n",
       "      <td>Web</td>\n",
       "      <td>Mac Desktop</td>\n",
       "      <td>Chrome</td>\n",
       "      <td>NDF</td>\n",
       "    </tr>\n",
       "    <tr>\n",
       "      <th>2</th>\n",
       "      <td>4ft3gnwmtx</td>\n",
       "      <td>2010-09-28</td>\n",
       "      <td>20090609231247</td>\n",
       "      <td>2010-08-02</td>\n",
       "      <td>FEMALE</td>\n",
       "      <td>56.0</td>\n",
       "      <td>basic</td>\n",
       "      <td>3</td>\n",
       "      <td>en</td>\n",
       "      <td>direct</td>\n",
       "      <td>direct</td>\n",
       "      <td>untracked</td>\n",
       "      <td>Web</td>\n",
       "      <td>Windows Desktop</td>\n",
       "      <td>IE</td>\n",
       "      <td>US</td>\n",
       "    </tr>\n",
       "    <tr>\n",
       "      <th>3</th>\n",
       "      <td>bjjt8pjhuk</td>\n",
       "      <td>2011-12-05</td>\n",
       "      <td>20091031060129</td>\n",
       "      <td>2012-09-08</td>\n",
       "      <td>FEMALE</td>\n",
       "      <td>42.0</td>\n",
       "      <td>facebook</td>\n",
       "      <td>0</td>\n",
       "      <td>en</td>\n",
       "      <td>direct</td>\n",
       "      <td>direct</td>\n",
       "      <td>untracked</td>\n",
       "      <td>Web</td>\n",
       "      <td>Mac Desktop</td>\n",
       "      <td>Firefox</td>\n",
       "      <td>other</td>\n",
       "    </tr>\n",
       "    <tr>\n",
       "      <th>4</th>\n",
       "      <td>87mebub9p4</td>\n",
       "      <td>2010-09-14</td>\n",
       "      <td>20091208061105</td>\n",
       "      <td>2010-02-18</td>\n",
       "      <td>-unknown-</td>\n",
       "      <td>41.0</td>\n",
       "      <td>basic</td>\n",
       "      <td>0</td>\n",
       "      <td>en</td>\n",
       "      <td>direct</td>\n",
       "      <td>direct</td>\n",
       "      <td>untracked</td>\n",
       "      <td>Web</td>\n",
       "      <td>Mac Desktop</td>\n",
       "      <td>Chrome</td>\n",
       "      <td>US</td>\n",
       "    </tr>\n",
       "  </tbody>\n",
       "</table>\n",
       "</div>"
      ],
      "text/plain": [
       "           id date_account_created  timestamp_first_active date_first_booking  \\\n",
       "0  gxn3p5htnn           2010-06-28          20090319043255                NaN   \n",
       "1  820tgsjxq7           2011-05-25          20090523174809                NaN   \n",
       "2  4ft3gnwmtx           2010-09-28          20090609231247         2010-08-02   \n",
       "3  bjjt8pjhuk           2011-12-05          20091031060129         2012-09-08   \n",
       "4  87mebub9p4           2010-09-14          20091208061105         2010-02-18   \n",
       "\n",
       "      gender   age signup_method  signup_flow language affiliate_channel  \\\n",
       "0  -unknown-   NaN      facebook            0       en            direct   \n",
       "1       MALE  38.0      facebook            0       en               seo   \n",
       "2     FEMALE  56.0         basic            3       en            direct   \n",
       "3     FEMALE  42.0      facebook            0       en            direct   \n",
       "4  -unknown-  41.0         basic            0       en            direct   \n",
       "\n",
       "  affiliate_provider first_affiliate_tracked signup_app first_device_type  \\\n",
       "0             direct               untracked        Web       Mac Desktop   \n",
       "1             google               untracked        Web       Mac Desktop   \n",
       "2             direct               untracked        Web   Windows Desktop   \n",
       "3             direct               untracked        Web       Mac Desktop   \n",
       "4             direct               untracked        Web       Mac Desktop   \n",
       "\n",
       "  first_browser country_destination  \n",
       "0        Chrome                 NDF  \n",
       "1        Chrome                 NDF  \n",
       "2            IE                  US  \n",
       "3       Firefox               other  \n",
       "4        Chrome                  US  "
      ]
     },
     "execution_count": 5,
     "metadata": {},
     "output_type": "execute_result"
    }
   ],
   "source": [
    "df1.head()"
   ]
  },
  {
   "cell_type": "code",
   "execution_count": 6,
   "id": "6a07a5b4-a647-4aaa-af12-1c4fe6de397d",
   "metadata": {},
   "outputs": [
    {
     "name": "stdout",
     "output_type": "stream",
     "text": [
      "Número de linhas: 213451\n",
      "Número de colunas: 16\n"
     ]
    }
   ],
   "source": [
    "print(\"Número de linhas: {}\".format(df1.shape[0]))\n",
    "print(\"Número de colunas: {}\".format(df1.shape[1]))"
   ]
  },
  {
   "cell_type": "markdown",
   "id": "3e8fed45-c021-4b1e-ae9f-20e8bfb2f007",
   "metadata": {},
   "source": [
    "### 1.1.1 Data type"
   ]
  },
  {
   "cell_type": "code",
   "execution_count": 7,
   "id": "6f2607b6-3d7f-4459-b638-ba465f4019dd",
   "metadata": {},
   "outputs": [
    {
     "data": {
      "text/plain": [
       "id                          object\n",
       "date_account_created        object\n",
       "timestamp_first_active       int64\n",
       "date_first_booking          object\n",
       "gender                      object\n",
       "age                        float64\n",
       "signup_method               object\n",
       "signup_flow                  int64\n",
       "language                    object\n",
       "affiliate_channel           object\n",
       "affiliate_provider          object\n",
       "first_affiliate_tracked     object\n",
       "signup_app                  object\n",
       "first_device_type           object\n",
       "first_browser               object\n",
       "country_destination         object\n",
       "dtype: object"
      ]
     },
     "execution_count": 7,
     "metadata": {},
     "output_type": "execute_result"
    }
   ],
   "source": [
    "df1.dtypes"
   ]
  },
  {
   "cell_type": "markdown",
   "id": "5f34ccde-380d-425b-b5fd-79e7884e74f8",
   "metadata": {},
   "source": [
    "### 1.1.2 Check NA"
   ]
  },
  {
   "cell_type": "code",
   "execution_count": 11,
   "id": "8c1720c4-47b3-4a4c-9616-6aa360aacee4",
   "metadata": {},
   "outputs": [
    {
     "data": {
      "text/plain": [
       "id                         0.000000\n",
       "date_account_created       0.000000\n",
       "timestamp_first_active     0.000000\n",
       "date_first_booking         0.583473\n",
       "gender                     0.000000\n",
       "age                        0.412226\n",
       "signup_method              0.000000\n",
       "signup_flow                0.000000\n",
       "language                   0.000000\n",
       "affiliate_channel          0.000000\n",
       "affiliate_provider         0.000000\n",
       "first_affiliate_tracked    0.028414\n",
       "signup_app                 0.000000\n",
       "first_device_type          0.000000\n",
       "first_browser              0.000000\n",
       "country_destination        0.000000\n",
       "dtype: float64"
      ]
     },
     "execution_count": 11,
     "metadata": {},
     "output_type": "execute_result"
    }
   ],
   "source": [
    "df1.isna().sum() / df1.shape[0]"
   ]
  },
  {
   "cell_type": "code",
   "execution_count": 14,
   "id": "92311e7f-8384-45d1-a2af-30db23c55fa4",
   "metadata": {},
   "outputs": [
    {
     "data": {
      "text/plain": [
       "NDF    1.0\n",
       "Name: country_destination, dtype: float64"
      ]
     },
     "execution_count": 14,
     "metadata": {},
     "output_type": "execute_result"
    }
   ],
   "source": [
    "# porcentagem de quem nao tem booking em cada destino\n",
    "aux = df1[df1['date_first_booking'].isna()]\n",
    "aux['country_destination'].value_counts(normalize=True)"
   ]
  },
  {
   "cell_type": "code",
   "execution_count": 15,
   "id": "da23cdef-8f46-49a0-9255-7e46457017a3",
   "metadata": {},
   "outputs": [],
   "source": [
    "# date_first_booking\n",
    "date_first_booking_max = pd.to_datetime(df1['date_first_booking']).max().strftime('%Y-%m-%d')\n",
    "df1['date_first_booking'] = df1['date_first_booking'].fillna(date_first_booking_max)"
   ]
  },
  {
   "cell_type": "code",
   "execution_count": 19,
   "id": "c720e43a-0392-4005-9cb6-fda989ad8a46",
   "metadata": {},
   "outputs": [
    {
     "data": {
      "text/plain": [
       "NDF      0.768428\n",
       "US       0.156529\n",
       "other    0.028617\n",
       "FR       0.014888\n",
       "IT       0.009081\n",
       "GB       0.006251\n",
       "ES       0.006171\n",
       "CA       0.003989\n",
       "DE       0.002387\n",
       "NL       0.001818\n",
       "AU       0.001171\n",
       "PT       0.000671\n",
       "Name: country_destination, dtype: float64"
      ]
     },
     "execution_count": 19,
     "metadata": {},
     "output_type": "execute_result"
    }
   ],
   "source": [
    "# porcentagem de idades em cada destino\n",
    "aux = df1[df1['age'].isna()]\n",
    "aux['country_destination'].value_counts(normalize=True)"
   ]
  },
  {
   "cell_type": "code",
   "execution_count": 25,
   "id": "a60d89ea-7392-469a-b49d-9a5012761024",
   "metadata": {},
   "outputs": [
    {
     "data": {
      "text/plain": [
       "<seaborn.axisgrid.FacetGrid at 0x7f699a485490>"
      ]
     },
     "execution_count": 25,
     "metadata": {},
     "output_type": "execute_result"
    },
    {
     "data": {
      "image/png": "[encoded data removed]",
      "text/plain": [
       "<Figure size 500x500 with 1 Axes>"
      ]
     },
     "metadata": {},
     "output_type": "display_data"
    }
   ],
   "source": [
    "sns.displot(df1[df1['age'] < 100]['age'])"
   ]
  },
  {
   "cell_type": "code",
   "execution_count": 28,
   "id": "190bb103-5a3f-4bad-bc34-0e1e0c85b227",
   "metadata": {},
   "outputs": [],
   "source": [
    "# age\n",
    "avg_age = df1['age'].mean().astype(int)\n",
    "df1['age'] = df1['age'].fillna(avg_age)"
   ]
  },
  {
   "cell_type": "code",
   "execution_count": 36,
   "id": "8bf1af84-908f-4cb5-ba39-bf9f9d010326",
   "metadata": {},
   "outputs": [
    {
     "data": {
      "text/plain": [
       "<seaborn.axisgrid.FacetGrid at 0x7f69a00f0cd0>"
      ]
     },
     "execution_count": 36,
     "metadata": {},
     "output_type": "execute_result"
    },
    {
     "data": {
      "image/png": "[encoded data removed]",
      "text/plain": [
       "<Figure size 500x500 with 1 Axes>"
      ]
     },
     "metadata": {},
     "output_type": "display_data"
    }
   ],
   "source": [
    "sns.displot(df1[df1['age'] < 100]['age'])"
   ]
  },
  {
   "cell_type": "code",
   "execution_count": 31,
   "id": "e579505f-69d5-4dc9-9536-f47abad557d9",
   "metadata": {},
   "outputs": [],
   "source": [
    "# first_affiliate_tracked\n",
    "df1 = df1.dropna()"
   ]
  },
  {
   "cell_type": "code",
   "execution_count": 32,
   "id": "bdadbebc-fa82-4789-9397-a1dea5d2745c",
   "metadata": {},
   "outputs": [
    {
     "data": {
      "text/plain": [
       "id                         0.0\n",
       "date_account_created       0.0\n",
       "timestamp_first_active     0.0\n",
       "date_first_booking         0.0\n",
       "gender                     0.0\n",
       "age                        0.0\n",
       "signup_method              0.0\n",
       "signup_flow                0.0\n",
       "language                   0.0\n",
       "affiliate_channel          0.0\n",
       "affiliate_provider         0.0\n",
       "first_affiliate_tracked    0.0\n",
       "signup_app                 0.0\n",
       "first_device_type          0.0\n",
       "first_browser              0.0\n",
       "country_destination        0.0\n",
       "dtype: float64"
      ]
     },
     "execution_count": 32,
     "metadata": {},
     "output_type": "execute_result"
    }
   ],
   "source": [
    "df1.isna().sum()/df1.shape[0]"
   ]
  },
  {
   "cell_type": "code",
   "execution_count": 33,
   "id": "a6bb8c76-6939-4664-8ab9-e97fee02da0a",
   "metadata": {},
   "outputs": [
    {
     "data": {
      "text/plain": [
       "(207386, 16)"
      ]
     },
     "execution_count": 33,
     "metadata": {},
     "output_type": "execute_result"
    }
   ],
   "source": [
    "df1.shape"
   ]
  },
  {
   "cell_type": "markdown",
   "id": "91cb5cbf-2b4b-4326-9ea6-9773c6996bad",
   "metadata": {},
   "source": [
    "### 1.1.3 Change Data Type"
   ]
  },
  {
   "cell_type": "code",
   "execution_count": 34,
   "id": "b038a37b-7383-4b95-a7fe-18de6e1fb3a6",
   "metadata": {},
   "outputs": [],
   "source": [
    "# date_account_created\n",
    "df1['date_account_created'] = pd.to_datetime(df1['date_account_created'])\n",
    "# timestamp_first_active\n",
    "df1['timestamp_first_active'] = pd.to_datetime(df1['timestamp_first_active'], format='%Y%m%d%H%M%S')\n",
    "# date_first_booking\n",
    "df1['date_first_booking'] = pd.to_datetime(df1['date_first_booking'])\n",
    "# age\n",
    "df1['age'] = df1['age'].astype(int)"
   ]
  },
  {
   "cell_type": "markdown",
   "id": "45d655a3-89ad-4e09-bf0d-3e35364aaeb5",
   "metadata": {},
   "source": [
    "### 1.1.3 Check Balanced Data"
   ]
  },
  {
   "cell_type": "code",
   "execution_count": 35,
   "id": "888f81de-e2bc-474f-a3f3-a041e78d7536",
   "metadata": {},
   "outputs": [
    {
     "data": {
      "text/plain": [
       "NDF      0.579673\n",
       "US       0.294461\n",
       "other    0.048128\n",
       "FR       0.023623\n",
       "IT       0.013458\n",
       "GB       0.011066\n",
       "ES       0.010671\n",
       "CA       0.006707\n",
       "DE       0.005020\n",
       "NL       0.003621\n",
       "AU       0.002541\n",
       "PT       0.001032\n",
       "Name: country_destination, dtype: float64"
      ]
     },
     "execution_count": 35,
     "metadata": {},
     "output_type": "execute_result"
    }
   ],
   "source": [
    "df1['country_destination'].value_counts(normalize=True)"
   ]
  },
  {
   "cell_type": "markdown",
   "id": "231a3f5a-1a8f-4031-806d-1202d42d732b",
   "metadata": {
    "jp-MarkdownHeadingCollapsed": true,
    "tags": []
   },
   "source": [
    "## 1.2 Sessions:"
   ]
  },
  {
   "cell_type": "code",
   "execution_count": 12,
   "id": "3f2c2e16-cf3c-42c6-985f-bfecf583764c",
   "metadata": {},
   "outputs": [
    {
     "data": {
      "text/html": [
       "<div>\n",
       "<style scoped>\n",
       "    .dataframe tbody tr th:only-of-type {\n",
       "        vertical-align: middle;\n",
       "    }\n",
       "\n",
       "    .dataframe tbody tr th {\n",
       "        vertical-align: top;\n",
       "    }\n",
       "\n",
       "    .dataframe thead th {\n",
       "        text-align: right;\n",
       "    }\n",
       "</style>\n",
       "<table border=\"1\" class=\"dataframe\">\n",
       "  <thead>\n",
       "    <tr style=\"text-align: right;\">\n",
       "      <th></th>\n",
       "      <th>user_id</th>\n",
       "      <th>action</th>\n",
       "      <th>action_type</th>\n",
       "      <th>action_detail</th>\n",
       "      <th>device_type</th>\n",
       "      <th>secs_elapsed</th>\n",
       "    </tr>\n",
       "  </thead>\n",
       "  <tbody>\n",
       "    <tr>\n",
       "      <th>0</th>\n",
       "      <td>d1mm9tcy42</td>\n",
       "      <td>lookup</td>\n",
       "      <td>NaN</td>\n",
       "      <td>NaN</td>\n",
       "      <td>Windows Desktop</td>\n",
       "      <td>319.0</td>\n",
       "    </tr>\n",
       "    <tr>\n",
       "      <th>1</th>\n",
       "      <td>d1mm9tcy42</td>\n",
       "      <td>search_results</td>\n",
       "      <td>click</td>\n",
       "      <td>view_search_results</td>\n",
       "      <td>Windows Desktop</td>\n",
       "      <td>67753.0</td>\n",
       "    </tr>\n",
       "    <tr>\n",
       "      <th>2</th>\n",
       "      <td>d1mm9tcy42</td>\n",
       "      <td>lookup</td>\n",
       "      <td>NaN</td>\n",
       "      <td>NaN</td>\n",
       "      <td>Windows Desktop</td>\n",
       "      <td>301.0</td>\n",
       "    </tr>\n",
       "    <tr>\n",
       "      <th>3</th>\n",
       "      <td>d1mm9tcy42</td>\n",
       "      <td>search_results</td>\n",
       "      <td>click</td>\n",
       "      <td>view_search_results</td>\n",
       "      <td>Windows Desktop</td>\n",
       "      <td>22141.0</td>\n",
       "    </tr>\n",
       "    <tr>\n",
       "      <th>4</th>\n",
       "      <td>d1mm9tcy42</td>\n",
       "      <td>lookup</td>\n",
       "      <td>NaN</td>\n",
       "      <td>NaN</td>\n",
       "      <td>Windows Desktop</td>\n",
       "      <td>435.0</td>\n",
       "    </tr>\n",
       "  </tbody>\n",
       "</table>\n",
       "</div>"
      ],
      "text/plain": [
       "      user_id          action action_type        action_detail  \\\n",
       "0  d1mm9tcy42          lookup         NaN                  NaN   \n",
       "1  d1mm9tcy42  search_results       click  view_search_results   \n",
       "2  d1mm9tcy42          lookup         NaN                  NaN   \n",
       "3  d1mm9tcy42  search_results       click  view_search_results   \n",
       "4  d1mm9tcy42          lookup         NaN                  NaN   \n",
       "\n",
       "       device_type  secs_elapsed  \n",
       "0  Windows Desktop         319.0  \n",
       "1  Windows Desktop       67753.0  \n",
       "2  Windows Desktop         301.0  \n",
       "3  Windows Desktop       22141.0  \n",
       "4  Windows Desktop         435.0  "
      ]
     },
     "execution_count": 12,
     "metadata": {},
     "output_type": "execute_result"
    }
   ],
   "source": [
    "df_sessions.head()"
   ]
  },
  {
   "cell_type": "code",
   "execution_count": 14,
   "id": "25e397b1-f1b7-4457-9552-6a8eae675ec8",
   "metadata": {},
   "outputs": [
    {
     "data": {
      "text/html": [
       "<div>\n",
       "<style scoped>\n",
       "    .dataframe tbody tr th:only-of-type {\n",
       "        vertical-align: middle;\n",
       "    }\n",
       "\n",
       "    .dataframe tbody tr th {\n",
       "        vertical-align: top;\n",
       "    }\n",
       "\n",
       "    .dataframe thead th {\n",
       "        text-align: right;\n",
       "    }\n",
       "</style>\n",
       "<table border=\"1\" class=\"dataframe\">\n",
       "  <thead>\n",
       "    <tr style=\"text-align: right;\">\n",
       "      <th></th>\n",
       "      <th>action</th>\n",
       "    </tr>\n",
       "    <tr>\n",
       "      <th>user_id</th>\n",
       "      <th></th>\n",
       "    </tr>\n",
       "  </thead>\n",
       "  <tbody>\n",
       "    <tr>\n",
       "      <th>d1mm9tcy42</th>\n",
       "      <td>126</td>\n",
       "    </tr>\n",
       "  </tbody>\n",
       "</table>\n",
       "</div>"
      ],
      "text/plain": [
       "            action\n",
       "user_id           \n",
       "d1mm9tcy42     126"
      ]
     },
     "execution_count": 14,
     "metadata": {},
     "output_type": "execute_result"
    }
   ],
   "source": [
    "df_sessions[df_sessions['user_id'] == 'd1mm9tcy42'][['user_id', 'action']].groupby('user_id').count()"
   ]
  },
  {
   "cell_type": "code",
   "execution_count": 16,
   "id": "83925be8-af55-4456-a7da-06e56a2bcd9a",
   "metadata": {},
   "outputs": [
    {
     "data": {
      "text/plain": [
       "user_id     action                     \n",
       "d1mm9tcy42  show                           28\n",
       "            personalize                    25\n",
       "            lookup                         23\n",
       "            search_results                 12\n",
       "            index                          11\n",
       "            similar_listings                9\n",
       "            ajax_refresh_subtotal           8\n",
       "            hosting_social_proof            2\n",
       "            active                          1\n",
       "            ask_question                    1\n",
       "            decision_tree                   1\n",
       "            faq_experiment_ids              1\n",
       "            header_userpic                  1\n",
       "            multi                           1\n",
       "            other_hosting_reviews_first     1\n",
       "            recent_reservations             1\n",
       "dtype: int64"
      ]
     },
     "execution_count": 16,
     "metadata": {},
     "output_type": "execute_result"
    }
   ],
   "source": [
    "df_sessions[df_sessions['user_id'] == 'd1mm9tcy42'][['user_id', 'action']].value_counts()"
   ]
  },
  {
   "cell_type": "markdown",
   "id": "4f5cb9bf-dac4-4280-840e-3274b3a46162",
   "metadata": {
    "jp-MarkdownHeadingCollapsed": true,
    "tags": []
   },
   "source": [
    "# 2.0 Data Filtering"
   ]
  },
  {
   "cell_type": "code",
   "execution_count": 32,
   "id": "fd4a31a2-7eb4-4b60-a401-d843156acae4",
   "metadata": {},
   "outputs": [],
   "source": [
    "df2 = df1.copy()"
   ]
  },
  {
   "cell_type": "markdown",
   "id": "faae2ea5-65fa-4385-95a9-55c2965cd776",
   "metadata": {
    "tags": []
   },
   "source": [
    "## 2.1 Filtering Rows"
   ]
  },
  {
   "cell_type": "markdown",
   "id": "34062a87-d837-44e7-875d-190c49544374",
   "metadata": {},
   "source": [
    "## 2.2 Columns Selection"
   ]
  },
  {
   "cell_type": "markdown",
   "id": "98c722f4-675d-4f73-a066-4199c524f8e8",
   "metadata": {},
   "source": [
    "# 3.0 Data Preparation"
   ]
  },
  {
   "cell_type": "code",
   "execution_count": 57,
   "id": "7937fb47-24e9-4bfb-aa42-49fdfbfc9e57",
   "metadata": {},
   "outputs": [],
   "source": [
    "df3 = df2.copy()"
   ]
  },
  {
   "cell_type": "code",
   "execution_count": 59,
   "id": "0d6e7f1d-0e5c-41c1-acd1-795b59cbd645",
   "metadata": {},
   "outputs": [],
   "source": [
    "# dummy variable\n",
    "df3_dummy = pd.get_dummies(df3.drop(['id','country_destination'], axis=1))\n",
    "\n",
    "# join 'id' and 'country destination'\n",
    "df3 = pd.concat([df3[['id','country_destination']], df3_dummy], axis=1)"
   ]
  },
  {
   "cell_type": "code",
   "execution_count": 61,
   "id": "12405756-c367-42dd-ab8f-df7fc241cacf",
   "metadata": {},
   "outputs": [
    {
     "data": {
      "text/html": [
       "<div>\n",
       "<style scoped>\n",
       "    .dataframe tbody tr th:only-of-type {\n",
       "        vertical-align: middle;\n",
       "    }\n",
       "\n",
       "    .dataframe tbody tr th {\n",
       "        vertical-align: top;\n",
       "    }\n",
       "\n",
       "    .dataframe thead th {\n",
       "        text-align: right;\n",
       "    }\n",
       "</style>\n",
       "<table border=\"1\" class=\"dataframe\">\n",
       "  <thead>\n",
       "    <tr style=\"text-align: right;\">\n",
       "      <th></th>\n",
       "      <th>id</th>\n",
       "      <th>country_destination</th>\n",
       "      <th>date_account_created</th>\n",
       "      <th>timestamp_first_active</th>\n",
       "      <th>date_first_booking</th>\n",
       "      <th>age</th>\n",
       "      <th>signup_flow</th>\n",
       "      <th>gender_-unknown-</th>\n",
       "      <th>gender_FEMALE</th>\n",
       "      <th>gender_MALE</th>\n",
       "      <th>...</th>\n",
       "      <th>first_browser_Safari</th>\n",
       "      <th>first_browser_SeaMonkey</th>\n",
       "      <th>first_browser_Silk</th>\n",
       "      <th>first_browser_SiteKiosk</th>\n",
       "      <th>first_browser_SlimBrowser</th>\n",
       "      <th>first_browser_Sogou Explorer</th>\n",
       "      <th>first_browser_Stainless</th>\n",
       "      <th>first_browser_TenFourFox</th>\n",
       "      <th>first_browser_TheWorld Browser</th>\n",
       "      <th>first_browser_Yandex.Browser</th>\n",
       "    </tr>\n",
       "  </thead>\n",
       "  <tbody>\n",
       "    <tr>\n",
       "      <th>2</th>\n",
       "      <td>4ft3gnwmtx</td>\n",
       "      <td>US</td>\n",
       "      <td>2010-09-28</td>\n",
       "      <td>2009-06-09 23:12:47</td>\n",
       "      <td>2010-08-02</td>\n",
       "      <td>56</td>\n",
       "      <td>3</td>\n",
       "      <td>0</td>\n",
       "      <td>1</td>\n",
       "      <td>0</td>\n",
       "      <td>...</td>\n",
       "      <td>0</td>\n",
       "      <td>0</td>\n",
       "      <td>0</td>\n",
       "      <td>0</td>\n",
       "      <td>0</td>\n",
       "      <td>0</td>\n",
       "      <td>0</td>\n",
       "      <td>0</td>\n",
       "      <td>0</td>\n",
       "      <td>0</td>\n",
       "    </tr>\n",
       "    <tr>\n",
       "      <th>3</th>\n",
       "      <td>bjjt8pjhuk</td>\n",
       "      <td>other</td>\n",
       "      <td>2011-12-05</td>\n",
       "      <td>2009-10-31 06:01:29</td>\n",
       "      <td>2012-09-08</td>\n",
       "      <td>42</td>\n",
       "      <td>0</td>\n",
       "      <td>0</td>\n",
       "      <td>1</td>\n",
       "      <td>0</td>\n",
       "      <td>...</td>\n",
       "      <td>0</td>\n",
       "      <td>0</td>\n",
       "      <td>0</td>\n",
       "      <td>0</td>\n",
       "      <td>0</td>\n",
       "      <td>0</td>\n",
       "      <td>0</td>\n",
       "      <td>0</td>\n",
       "      <td>0</td>\n",
       "      <td>0</td>\n",
       "    </tr>\n",
       "    <tr>\n",
       "      <th>4</th>\n",
       "      <td>87mebub9p4</td>\n",
       "      <td>US</td>\n",
       "      <td>2010-09-14</td>\n",
       "      <td>2009-12-08 06:11:05</td>\n",
       "      <td>2010-02-18</td>\n",
       "      <td>41</td>\n",
       "      <td>0</td>\n",
       "      <td>1</td>\n",
       "      <td>0</td>\n",
       "      <td>0</td>\n",
       "      <td>...</td>\n",
       "      <td>0</td>\n",
       "      <td>0</td>\n",
       "      <td>0</td>\n",
       "      <td>0</td>\n",
       "      <td>0</td>\n",
       "      <td>0</td>\n",
       "      <td>0</td>\n",
       "      <td>0</td>\n",
       "      <td>0</td>\n",
       "      <td>0</td>\n",
       "    </tr>\n",
       "    <tr>\n",
       "      <th>6</th>\n",
       "      <td>lsw9q7uk0j</td>\n",
       "      <td>US</td>\n",
       "      <td>2010-01-02</td>\n",
       "      <td>2010-01-02 01:25:58</td>\n",
       "      <td>2010-01-05</td>\n",
       "      <td>46</td>\n",
       "      <td>0</td>\n",
       "      <td>0</td>\n",
       "      <td>1</td>\n",
       "      <td>0</td>\n",
       "      <td>...</td>\n",
       "      <td>1</td>\n",
       "      <td>0</td>\n",
       "      <td>0</td>\n",
       "      <td>0</td>\n",
       "      <td>0</td>\n",
       "      <td>0</td>\n",
       "      <td>0</td>\n",
       "      <td>0</td>\n",
       "      <td>0</td>\n",
       "      <td>0</td>\n",
       "    </tr>\n",
       "    <tr>\n",
       "      <th>7</th>\n",
       "      <td>0d01nltbrs</td>\n",
       "      <td>US</td>\n",
       "      <td>2010-01-03</td>\n",
       "      <td>2010-01-03 19:19:05</td>\n",
       "      <td>2010-01-13</td>\n",
       "      <td>47</td>\n",
       "      <td>0</td>\n",
       "      <td>0</td>\n",
       "      <td>1</td>\n",
       "      <td>0</td>\n",
       "      <td>...</td>\n",
       "      <td>1</td>\n",
       "      <td>0</td>\n",
       "      <td>0</td>\n",
       "      <td>0</td>\n",
       "      <td>0</td>\n",
       "      <td>0</td>\n",
       "      <td>0</td>\n",
       "      <td>0</td>\n",
       "      <td>0</td>\n",
       "      <td>0</td>\n",
       "    </tr>\n",
       "  </tbody>\n",
       "</table>\n",
       "<p>5 rows × 117 columns</p>\n",
       "</div>"
      ],
      "text/plain": [
       "           id country_destination date_account_created timestamp_first_active  \\\n",
       "2  4ft3gnwmtx                  US           2010-09-28    2009-06-09 23:12:47   \n",
       "3  bjjt8pjhuk               other           2011-12-05    2009-10-31 06:01:29   \n",
       "4  87mebub9p4                  US           2010-09-14    2009-12-08 06:11:05   \n",
       "6  lsw9q7uk0j                  US           2010-01-02    2010-01-02 01:25:58   \n",
       "7  0d01nltbrs                  US           2010-01-03    2010-01-03 19:19:05   \n",
       "\n",
       "  date_first_booking  age  signup_flow  gender_-unknown-  gender_FEMALE  \\\n",
       "2         2010-08-02   56            3                 0              1   \n",
       "3         2012-09-08   42            0                 0              1   \n",
       "4         2010-02-18   41            0                 1              0   \n",
       "6         2010-01-05   46            0                 0              1   \n",
       "7         2010-01-13   47            0                 0              1   \n",
       "\n",
       "   gender_MALE  ...  first_browser_Safari  first_browser_SeaMonkey  \\\n",
       "2            0  ...                     0                        0   \n",
       "3            0  ...                     0                        0   \n",
       "4            0  ...                     0                        0   \n",
       "6            0  ...                     1                        0   \n",
       "7            0  ...                     1                        0   \n",
       "\n",
       "   first_browser_Silk  first_browser_SiteKiosk  first_browser_SlimBrowser  \\\n",
       "2                   0                        0                          0   \n",
       "3                   0                        0                          0   \n",
       "4                   0                        0                          0   \n",
       "6                   0                        0                          0   \n",
       "7                   0                        0                          0   \n",
       "\n",
       "   first_browser_Sogou Explorer  first_browser_Stainless  \\\n",
       "2                             0                        0   \n",
       "3                             0                        0   \n",
       "4                             0                        0   \n",
       "6                             0                        0   \n",
       "7                             0                        0   \n",
       "\n",
       "   first_browser_TenFourFox  first_browser_TheWorld Browser  \\\n",
       "2                         0                               0   \n",
       "3                         0                               0   \n",
       "4                         0                               0   \n",
       "6                         0                               0   \n",
       "7                         0                               0   \n",
       "\n",
       "   first_browser_Yandex.Browser  \n",
       "2                             0  \n",
       "3                             0  \n",
       "4                             0  \n",
       "6                             0  \n",
       "7                             0  \n",
       "\n",
       "[5 rows x 117 columns]"
      ]
     },
     "execution_count": 61,
     "metadata": {},
     "output_type": "execute_result"
    }
   ],
   "source": [
    "df3.head()"
   ]
  },
  {
   "cell_type": "markdown",
   "id": "823f40f8-56a2-4597-ab42-1b115b0ce5ea",
   "metadata": {},
   "source": [
    "# 4.0 Feature Selection"
   ]
  },
  {
   "cell_type": "code",
   "execution_count": 62,
   "id": "c93ec7aa-91d5-4997-87f0-b4c28af7a125",
   "metadata": {},
   "outputs": [],
   "source": [
    "cols_drop = ['date_account_created', 'timestamp_first_active', 'date_first_booking', 'id']\n",
    "df4 = df3.drop(cols_drop, axis=1)"
   ]
  },
  {
   "cell_type": "code",
   "execution_count": 63,
   "id": "630946d8-b345-47a3-959b-7686803eb9c2",
   "metadata": {},
   "outputs": [],
   "source": [
    "X = df4.drop('country_destination', axis=1)\n",
    "y = df4['country_destination'].copy()"
   ]
  },
  {
   "cell_type": "code",
   "execution_count": 64,
   "id": "390b11b7-269e-4e1a-ba93-7f1d1e213c3d",
   "metadata": {},
   "outputs": [],
   "source": [
    "X_train, X_val, y_train, y_val = ms.train_test_split(X, y, test_size=0.2, random_state=32)"
   ]
  },
  {
   "cell_type": "markdown",
   "id": "4780fae2-de22-4d3f-9f12-fd4ef42101d6",
   "metadata": {},
   "source": [
    "# 5.0 Machine Learning Model"
   ]
  },
  {
   "cell_type": "markdown",
   "id": "bf7926f2-39cf-43d1-b69b-861bcdb7a7a5",
   "metadata": {},
   "source": [
    "## 5.1 Baseline Model"
   ]
  },
  {
   "cell_type": "code",
   "execution_count": 108,
   "id": "85686b6f-62b9-42c4-8e1d-95342c65dd79",
   "metadata": {},
   "outputs": [
    {
     "data": {
      "text/plain": [
       "13635"
      ]
     },
     "execution_count": 108,
     "metadata": {},
     "output_type": "execute_result"
    }
   ],
   "source": [
    "country_destination_list = df1['country_destination'].drop_duplicates().sort_values().tolist()\n",
    "k_num = y_val.shape[0]\n",
    "country_destination_wights = df1['country_destination'].value_counts(normalize=True).sort_index() \n",
    "\n",
    "yhat_random = random.choices(population=country_destination_list, k=k_num, weights=country_destination_wights)\n",
    "len(yhat_random)"
   ]
  },
  {
   "cell_type": "code",
   "execution_count": 109,
   "id": "b0010c3b-da52-48cd-8b78-a527960c02e6",
   "metadata": {},
   "outputs": [
    {
     "name": "stdout",
     "output_type": "stream",
     "text": [
      "Accuracy: 0.51998533186652\n",
      "Balanced Accuracy: 0.09024291228587164\n",
      "Kappa Score: 0.0003471634637964849\n",
      "              precision    recall  f1-score   support\n",
      "\n",
      "          AU       0.00      0.00      0.00       101\n",
      "          CA       0.02      0.02      0.02       214\n",
      "          DE       0.01      0.01      0.01       170\n",
      "          ES       0.03      0.03      0.03       345\n",
      "          FR       0.05      0.05      0.05       710\n",
      "          GB       0.01      0.01      0.01       344\n",
      "          IT       0.03      0.02      0.03       423\n",
      "          NL       0.02      0.02      0.02       128\n",
      "          PT       0.00      0.00      0.00        36\n",
      "          US       0.71      0.71      0.71      9624\n",
      "       other       0.12      0.12      0.12      1540\n",
      "\n",
      "    accuracy                           0.52     13635\n",
      "   macro avg       0.09      0.09      0.09     13635\n",
      "weighted avg       0.52      0.52      0.52     13635\n",
      "\n"
     ]
    },
    {
     "data": {
      "text/plain": [
       "<AxesSubplot: title={'center': 'Confusion Matrix'}, xlabel='Predicted label', ylabel='True label'>"
      ]
     },
     "execution_count": 109,
     "metadata": {},
     "output_type": "execute_result"
    },
    {
     "data": {
      "image/png": "[encoded data removed]",
      "text/plain": [
       "<Figure size 700x700 with 2 Axes>"
      ]
     },
     "metadata": {},
     "output_type": "display_data"
    }
   ],
   "source": [
    "# accuracy\n",
    "acc_random = m.accuracy_score(y_val, yhat_random)\n",
    "print('Accuracy: {}'.format(acc_random))\n",
    "\n",
    "# Balanced Accuracy\n",
    "balanced_acc_random = m.balanced_accuracy_score(y_val, yhat_random)\n",
    "print('Balanced Accuracy: {}'.format(balanced_acc_random))\n",
    "\n",
    "# Kappa Metrics\n",
    "kappa_score_random = m.cohen_kappa_score(y_val, yhat_random)\n",
    "print('Kappa Score: {}'.format(kappa_score_random))\n",
    "\n",
    "# Classification Report\n",
    "print(m.classification_report(y_val, yhat_random ))\n",
    "\n",
    "# Confusion Matrix\n",
    "mt.plot_confusion_matrix(y_val, yhat_random, normalize=False, figsize=(7,7))"
   ]
  },
  {
   "cell_type": "markdown",
   "id": "9c1949ea-d29d-4ccc-8d2e-8fdd6aaa39c5",
   "metadata": {},
   "source": [
    "## 5.2 Neural Network (MLP)"
   ]
  },
  {
   "cell_type": "code",
   "execution_count": 65,
   "id": "4a595d08-dd17-4ea0-9eeb-f6cff2a0931e",
   "metadata": {},
   "outputs": [],
   "source": [
    "ohe = pp.OneHotEncoder()\n",
    "y_train_nn = ohe.fit_transform(y_train.values.reshape(-1,1)).toarray()"
   ]
  },
  {
   "cell_type": "code",
   "execution_count": 67,
   "id": "73a7e750-4000-4563-928d-4daaa8546ae7",
   "metadata": {},
   "outputs": [
    {
     "name": "stdout",
     "output_type": "stream",
     "text": [
      "Epoch 1/100\n",
      "1705/1705 [==============================] - 8s 4ms/step - loss: 1.3400 - accuracy: 0.7056\n",
      "Epoch 2/100\n",
      "1705/1705 [==============================] - 8s 4ms/step - loss: 1.2808 - accuracy: 0.7072\n",
      "Epoch 3/100\n",
      "1705/1705 [==============================] - 7s 4ms/step - loss: 1.2504 - accuracy: 0.7080\n",
      "Epoch 4/100\n",
      "1705/1705 [==============================] - 9s 5ms/step - loss: 1.2234 - accuracy: 0.7081\n",
      "Epoch 5/100\n",
      "1705/1705 [==============================] - 7s 4ms/step - loss: 1.2042 - accuracy: 0.7084\n",
      "Epoch 6/100\n",
      "1705/1705 [==============================] - 8s 4ms/step - loss: 1.1893 - accuracy: 0.7086\n",
      "Epoch 7/100\n",
      "1705/1705 [==============================] - 9s 5ms/step - loss: 1.1730 - accuracy: 0.7085\n",
      "Epoch 8/100\n",
      "1705/1705 [==============================] - 9s 5ms/step - loss: 1.1646 - accuracy: 0.7087\n",
      "Epoch 9/100\n",
      "1705/1705 [==============================] - 9s 5ms/step - loss: 1.1566 - accuracy: 0.7086\n",
      "Epoch 10/100\n",
      "1705/1705 [==============================] - 8s 5ms/step - loss: 1.1462 - accuracy: 0.7087\n",
      "Epoch 11/100\n",
      "1705/1705 [==============================] - 9s 5ms/step - loss: 1.1405 - accuracy: 0.7088\n",
      "Epoch 12/100\n",
      "1705/1705 [==============================] - 8s 5ms/step - loss: 1.1366 - accuracy: 0.7091\n",
      "Epoch 13/100\n",
      "1705/1705 [==============================] - 9s 5ms/step - loss: 1.1317 - accuracy: 0.7093\n",
      "Epoch 14/100\n",
      "1705/1705 [==============================] - 9s 5ms/step - loss: 1.1306 - accuracy: 0.7094\n",
      "Epoch 15/100\n",
      "1705/1705 [==============================] - 9s 5ms/step - loss: 1.1298 - accuracy: 0.7095\n",
      "Epoch 16/100\n",
      "1705/1705 [==============================] - 8s 5ms/step - loss: 1.1280 - accuracy: 0.7096\n",
      "Epoch 17/100\n",
      "1705/1705 [==============================] - 9s 5ms/step - loss: 1.1277 - accuracy: 0.7096\n",
      "Epoch 18/100\n",
      "1705/1705 [==============================] - 9s 5ms/step - loss: 1.1257 - accuracy: 0.7096\n",
      "Epoch 19/100\n",
      "1705/1705 [==============================] - 9s 5ms/step - loss: 1.1260 - accuracy: 0.7095\n",
      "Epoch 20/100\n",
      "1705/1705 [==============================] - 9s 5ms/step - loss: 1.1241 - accuracy: 0.7097\n",
      "Epoch 21/100\n",
      "1705/1705 [==============================] - 9s 5ms/step - loss: 1.1238 - accuracy: 0.7097\n",
      "Epoch 22/100\n",
      "1705/1705 [==============================] - 9s 5ms/step - loss: 1.1237 - accuracy: 0.7096\n",
      "Epoch 23/100\n",
      "1705/1705 [==============================] - 8s 5ms/step - loss: 1.1218 - accuracy: 0.7098\n",
      "Epoch 24/100\n",
      "1705/1705 [==============================] - 10s 6ms/step - loss: 1.1211 - accuracy: 0.7097\n",
      "Epoch 25/100\n",
      "1705/1705 [==============================] - 6s 3ms/step - loss: 1.1210 - accuracy: 0.7098\n",
      "Epoch 26/100\n",
      "1705/1705 [==============================] - 4s 2ms/step - loss: 1.1201 - accuracy: 0.7098\n",
      "Epoch 27/100\n",
      "1705/1705 [==============================] - 3s 2ms/step - loss: 1.1189 - accuracy: 0.7098\n",
      "Epoch 28/100\n",
      "1705/1705 [==============================] - 3s 2ms/step - loss: 1.1184 - accuracy: 0.7100\n",
      "Epoch 29/100\n",
      "1705/1705 [==============================] - 3s 2ms/step - loss: 1.1174 - accuracy: 0.7100\n",
      "Epoch 30/100\n",
      "1705/1705 [==============================] - 3s 2ms/step - loss: 1.1168 - accuracy: 0.7098\n",
      "Epoch 31/100\n",
      "1705/1705 [==============================] - 3s 2ms/step - loss: 1.1165 - accuracy: 0.7100\n",
      "Epoch 32/100\n",
      "1705/1705 [==============================] - 3s 2ms/step - loss: 1.1157 - accuracy: 0.7102\n",
      "Epoch 33/100\n",
      "1705/1705 [==============================] - 3s 2ms/step - loss: 1.1155 - accuracy: 0.7101\n",
      "Epoch 34/100\n",
      "1705/1705 [==============================] - 4s 2ms/step - loss: 1.1142 - accuracy: 0.7104\n",
      "Epoch 35/100\n",
      "1705/1705 [==============================] - 3s 2ms/step - loss: 1.1142 - accuracy: 0.7102\n",
      "Epoch 36/100\n",
      "1705/1705 [==============================] - 3s 2ms/step - loss: 1.1139 - accuracy: 0.7103\n",
      "Epoch 37/100\n",
      "1705/1705 [==============================] - 3s 2ms/step - loss: 1.1133 - accuracy: 0.7103\n",
      "Epoch 38/100\n",
      "1705/1705 [==============================] - 3s 2ms/step - loss: 1.1123 - accuracy: 0.7105\n",
      "Epoch 39/100\n",
      "1705/1705 [==============================] - 3s 2ms/step - loss: 1.1124 - accuracy: 0.7104\n",
      "Epoch 40/100\n",
      "1705/1705 [==============================] - 3s 2ms/step - loss: 1.1120 - accuracy: 0.7104\n",
      "Epoch 41/100\n",
      "1705/1705 [==============================] - 3s 2ms/step - loss: 1.1106 - accuracy: 0.7106\n",
      "Epoch 42/100\n",
      "1705/1705 [==============================] - 3s 2ms/step - loss: 1.1102 - accuracy: 0.7106\n",
      "Epoch 43/100\n",
      "1705/1705 [==============================] - 3s 2ms/step - loss: 1.1100 - accuracy: 0.7109\n",
      "Epoch 44/100\n",
      "1705/1705 [==============================] - 3s 2ms/step - loss: 1.1100 - accuracy: 0.7109\n",
      "Epoch 45/100\n",
      "1705/1705 [==============================] - 4s 2ms/step - loss: 1.1090 - accuracy: 0.7110\n",
      "Epoch 46/100\n",
      "1705/1705 [==============================] - 3s 2ms/step - loss: 1.1085 - accuracy: 0.7109\n",
      "Epoch 47/100\n",
      "1705/1705 [==============================] - 4s 2ms/step - loss: 1.1086 - accuracy: 0.7109\n",
      "Epoch 48/100\n",
      "1705/1705 [==============================] - 5s 3ms/step - loss: 1.1077 - accuracy: 0.7107\n",
      "Epoch 49/100\n",
      "1705/1705 [==============================] - 6s 4ms/step - loss: 1.1076 - accuracy: 0.7110\n",
      "Epoch 50/100\n",
      "1705/1705 [==============================] - 4s 2ms/step - loss: 1.1068 - accuracy: 0.7111\n",
      "Epoch 51/100\n",
      "1705/1705 [==============================] - 4s 2ms/step - loss: 1.1073 - accuracy: 0.7111\n",
      "Epoch 52/100\n",
      "1705/1705 [==============================] - 4s 2ms/step - loss: 1.1070 - accuracy: 0.7111\n",
      "Epoch 53/100\n",
      "1705/1705 [==============================] - 4s 2ms/step - loss: 1.1058 - accuracy: 0.7112\n",
      "Epoch 54/100\n",
      "1705/1705 [==============================] - 5s 3ms/step - loss: 1.1062 - accuracy: 0.7110\n",
      "Epoch 55/100\n",
      "1705/1705 [==============================] - 6s 3ms/step - loss: 1.1055 - accuracy: 0.7113\n",
      "Epoch 56/100\n",
      "1705/1705 [==============================] - 10s 6ms/step - loss: 1.1047 - accuracy: 0.7111\n",
      "Epoch 57/100\n",
      "1705/1705 [==============================] - 9s 5ms/step - loss: 1.1052 - accuracy: 0.7112\n",
      "Epoch 58/100\n",
      "1705/1705 [==============================] - 9s 5ms/step - loss: 1.1046 - accuracy: 0.7112\n",
      "Epoch 59/100\n",
      "1705/1705 [==============================] - 9s 5ms/step - loss: 1.1043 - accuracy: 0.7111\n",
      "Epoch 60/100\n",
      "1705/1705 [==============================] - 9s 5ms/step - loss: 1.1034 - accuracy: 0.7115\n",
      "Epoch 61/100\n",
      "1705/1705 [==============================] - 9s 5ms/step - loss: 1.1036 - accuracy: 0.7113\n",
      "Epoch 62/100\n",
      "1705/1705 [==============================] - 9s 5ms/step - loss: 1.1035 - accuracy: 0.7114\n",
      "Epoch 63/100\n",
      "1705/1705 [==============================] - 8s 5ms/step - loss: 1.1034 - accuracy: 0.7113\n",
      "Epoch 64/100\n",
      "1705/1705 [==============================] - 8s 4ms/step - loss: 1.1030 - accuracy: 0.7115\n",
      "Epoch 65/100\n",
      "1705/1705 [==============================] - 4s 3ms/step - loss: 1.1036 - accuracy: 0.7114\n",
      "Epoch 66/100\n",
      "1705/1705 [==============================] - 5s 3ms/step - loss: 1.1021 - accuracy: 0.7114\n",
      "Epoch 67/100\n",
      "1705/1705 [==============================] - 4s 3ms/step - loss: 1.1019 - accuracy: 0.7116\n",
      "Epoch 68/100\n",
      "1705/1705 [==============================] - 5s 3ms/step - loss: 1.1021 - accuracy: 0.7116\n",
      "Epoch 69/100\n",
      "1705/1705 [==============================] - 5s 3ms/step - loss: 1.1014 - accuracy: 0.7115\n",
      "Epoch 70/100\n",
      "1705/1705 [==============================] - 5s 3ms/step - loss: 1.1014 - accuracy: 0.7117\n",
      "Epoch 71/100\n",
      "1705/1705 [==============================] - 5s 3ms/step - loss: 1.1009 - accuracy: 0.7115\n",
      "Epoch 72/100\n",
      "1705/1705 [==============================] - 5s 3ms/step - loss: 1.1006 - accuracy: 0.7117\n",
      "Epoch 73/100\n",
      "1705/1705 [==============================] - 5s 3ms/step - loss: 1.1002 - accuracy: 0.7117\n",
      "Epoch 74/100\n",
      "1705/1705 [==============================] - 5s 3ms/step - loss: 1.1005 - accuracy: 0.7119\n",
      "Epoch 75/100\n",
      "1705/1705 [==============================] - 5s 3ms/step - loss: 1.1007 - accuracy: 0.7115\n",
      "Epoch 76/100\n",
      "1705/1705 [==============================] - 7s 4ms/step - loss: 1.0997 - accuracy: 0.7116\n",
      "Epoch 77/100\n",
      "1705/1705 [==============================] - 4s 2ms/step - loss: 1.1003 - accuracy: 0.7117\n",
      "Epoch 78/100\n",
      "1705/1705 [==============================] - 3s 2ms/step - loss: 1.0997 - accuracy: 0.7118\n",
      "Epoch 79/100\n",
      "1705/1705 [==============================] - 3s 2ms/step - loss: 1.0994 - accuracy: 0.7118\n",
      "Epoch 80/100\n",
      "1705/1705 [==============================] - 3s 2ms/step - loss: 1.0989 - accuracy: 0.7117\n",
      "Epoch 81/100\n",
      "1705/1705 [==============================] - 3s 2ms/step - loss: 1.0991 - accuracy: 0.7118\n",
      "Epoch 82/100\n",
      "1705/1705 [==============================] - 3s 2ms/step - loss: 1.0983 - accuracy: 0.7118\n",
      "Epoch 83/100\n",
      "1705/1705 [==============================] - 4s 2ms/step - loss: 1.0990 - accuracy: 0.7119\n",
      "Epoch 84/100\n",
      "1705/1705 [==============================] - 3s 2ms/step - loss: 1.0986 - accuracy: 0.7122\n",
      "Epoch 85/100\n",
      "1705/1705 [==============================] - 3s 2ms/step - loss: 1.0982 - accuracy: 0.7117\n",
      "Epoch 86/100\n",
      "1705/1705 [==============================] - 3s 2ms/step - loss: 1.0976 - accuracy: 0.7120\n",
      "Epoch 87/100\n",
      "1705/1705 [==============================] - 3s 2ms/step - loss: 1.0978 - accuracy: 0.7118\n",
      "Epoch 88/100\n",
      "1705/1705 [==============================] - 3s 2ms/step - loss: 1.0980 - accuracy: 0.7120\n",
      "Epoch 89/100\n",
      "1705/1705 [==============================] - 3s 2ms/step - loss: 1.0970 - accuracy: 0.7120\n",
      "Epoch 90/100\n",
      "1705/1705 [==============================] - 3s 2ms/step - loss: 1.0971 - accuracy: 0.7123\n",
      "Epoch 91/100\n",
      "1705/1705 [==============================] - 5s 3ms/step - loss: 1.0964 - accuracy: 0.7121\n",
      "Epoch 92/100\n",
      "1705/1705 [==============================] - 4s 2ms/step - loss: 1.0964 - accuracy: 0.7120\n",
      "Epoch 93/100\n",
      "1705/1705 [==============================] - 4s 2ms/step - loss: 1.0973 - accuracy: 0.7119\n",
      "Epoch 94/100\n",
      "1705/1705 [==============================] - 4s 2ms/step - loss: 1.0973 - accuracy: 0.7120\n",
      "Epoch 95/100\n",
      "1705/1705 [==============================] - 12s 7ms/step - loss: 1.0963 - accuracy: 0.7123\n",
      "Epoch 96/100\n",
      "1705/1705 [==============================] - 11s 7ms/step - loss: 1.0962 - accuracy: 0.7122\n",
      "Epoch 97/100\n",
      "1705/1705 [==============================] - 8s 5ms/step - loss: 1.0968 - accuracy: 0.7123\n",
      "Epoch 98/100\n",
      "1705/1705 [==============================] - 9s 5ms/step - loss: 1.0959 - accuracy: 0.7117\n",
      "Epoch 99/100\n",
      "1705/1705 [==============================] - 9s 5ms/step - loss: 1.0953 - accuracy: 0.7121\n",
      "Epoch 100/100\n",
      "1705/1705 [==============================] - 8s 5ms/step - loss: 1.0958 - accuracy: 0.7125\n"
     ]
    },
    {
     "data": {
      "text/plain": [
       "<keras.callbacks.History at 0x7f1919f9fa60>"
      ]
     },
     "execution_count": 67,
     "metadata": {},
     "output_type": "execute_result"
    }
   ],
   "source": [
    "# model definition\n",
    "model = ml.Sequential()\n",
    "model.add(l.Dense(128, input_dim=X_train.shape[1], activation='relu'))\n",
    "model.add(l.Dense(11, activation='softmax'))\n",
    "\n",
    "# model compile\n",
    "model.compile(loss='categorical_crossentropy', optimizer='adam', metrics=['accuracy'])\n",
    "\n",
    "# model train\n",
    "model.fit(X_train, y_train_nn, epochs=100)"
   ]
  },
  {
   "cell_type": "markdown",
   "id": "9a38cbbe-e428-43a8-b5d6-949fc9e27356",
   "metadata": {},
   "source": [
    "# 6.0 NN Performance"
   ]
  },
  {
   "cell_type": "code",
   "execution_count": 86,
   "id": "6a17442f-a842-4c4e-883a-538c98948c9d",
   "metadata": {},
   "outputs": [
    {
     "name": "stdout",
     "output_type": "stream",
     "text": [
      "427/427 [==============================] - 1s 1ms/step\n"
     ]
    }
   ],
   "source": [
    "# prediction\n",
    "pred_nn = model.predict(X_val)\n",
    "\n",
    "# invert prediction\n",
    "yhat_nn = ohe.inverse_transform(pred_nn)\n",
    "\n",
    "# prediction prepare\n",
    "y_val_nn = y_val.to_numpy()\n",
    "yhat_nn = yhat_nn.reshape(1,-1)[0]"
   ]
  },
  {
   "cell_type": "code",
   "execution_count": 99,
   "id": "7d7f12ba-a6ed-4387-a9e1-de4c3aa514cd",
   "metadata": {
    "tags": []
   },
   "outputs": [
    {
     "name": "stdout",
     "output_type": "stream",
     "text": [
      "Accuracy: 0.7028969563623029\n",
      "Balanced Accuracy: 0.09137349898814279\n",
      "Kappa Score: 0.00029349375776455133\n",
      "              precision    recall  f1-score   support\n",
      "\n",
      "          AU       0.00      0.00      0.00       101\n",
      "          CA       0.00      0.00      0.00       214\n",
      "          DE       0.33      0.01      0.01       170\n",
      "          ES       0.00      0.00      0.00       345\n",
      "          FR       0.33      0.00      0.00       710\n",
      "          GB       0.00      0.00      0.00       344\n",
      "          IT       0.00      0.00      0.00       423\n",
      "          NL       0.00      0.00      0.00       128\n",
      "          PT       0.00      0.00      0.00        36\n",
      "          US       0.71      1.00      0.83      9624\n",
      "       other       0.11      0.00      0.01      1540\n",
      "\n",
      "    accuracy                           0.70     13635\n",
      "   macro avg       0.13      0.09      0.08     13635\n",
      "weighted avg       0.53      0.70      0.58     13635\n",
      "\n"
     ]
    },
    {
     "data": {
      "text/plain": [
       "<AxesSubplot: title={'center': 'Confusion Matrix'}, xlabel='Predicted label', ylabel='True label'>"
      ]
     },
     "execution_count": 99,
     "metadata": {},
     "output_type": "execute_result"
    },
    {
     "data": {
      "image/png": "[encoded data removed]",
      "text/plain": [
       "<Figure size 700x700 with 2 Axes>"
      ]
     },
     "metadata": {},
     "output_type": "display_data"
    }
   ],
   "source": [
    "# accuracy\n",
    "acc_nn = m.accuracy_score(y_val_nn, yhat_nn)\n",
    "print('Accuracy: {}'.format(acc_nn))\n",
    "\n",
    "# Balanced Accuracy\n",
    "balanced_acc_nn = m.balanced_accuracy_score(y_val_nn, yhat_nn)\n",
    "print('Balanced Accuracy: {}'.format(balanced_acc_nn))\n",
    "\n",
    "# Kappa Metrics\n",
    "kappa_score_nn = m.cohen_kappa_score(y_val_nn, yhat_nn)\n",
    "print('Kappa Score: {}'.format(kappa_score_nn))\n",
    "\n",
    "# Classification Report\n",
    "print(m.classification_report(y_val_nn, yhat_nn ))\n",
    "\n",
    "# Confusion Matrix\n",
    "mt.plot_confusion_matrix(y_val_nn, yhat_nn, normalize=False, figsize=(7,7))"
   ]
  },
  {
   "cell_type": "markdown",
   "id": "f3a78828-e505-4ebc-8679-28c3bdaaa742",
   "metadata": {
    "jp-MarkdownHeadingCollapsed": true,
    "tags": []
   },
   "source": [
    "# 7.0 Cross-Validation"
   ]
  },
  {
   "cell_type": "code",
   "execution_count": null,
   "id": "c6543f10-22f1-465c-9716-8694c186b89f",
   "metadata": {},
   "outputs": [
    {
     "name": "stdout",
     "output_type": "stream",
     "text": [
      "Fold Number: 0/5\n",
      "341/341 [==============================] - 1s 4ms/step\n",
      "Fold Number: 1/5\n",
      "341/341 [==============================] - 1s 3ms/step\n",
      "Fold Number: 2/5\n",
      "341/341 [==============================] - 1s 3ms/step\n",
      "Fold Number: 3/5\n"
     ]
    }
   ],
   "source": [
    "# genarate k-fold\n",
    "n_folds = 5\n",
    "kfold = ms.StratifiedKFold(n_splits=n_folds, shuffle=True, random_state=32)\n",
    "\n",
    "balanced_acc_list = []\n",
    "kappa_acc_list = []\n",
    "\n",
    "i = 0\n",
    "for train_ix, val_ix in kfold.split(X_train, y_train):\n",
    "    print('Fold Number: {}/{}'.format(i, n_folds))\n",
    "    # get fold\n",
    "    x_train_fold = X_train.iloc[train_ix]\n",
    "    y_train_fold = y_train.iloc[train_ix]\n",
    "    \n",
    "    x_val_fold = X_train.iloc[val_ix]\n",
    "    y_val_fold = y_train.iloc[val_ix]\n",
    "\n",
    "    # target hot-encoding\n",
    "    ohe = pp.OneHotEncoder()\n",
    "    y_train_fold_nn = ohe.fit_transform(y_train_fold.values.reshape(-1,1)).toarray()\n",
    "\n",
    "    # model definition\n",
    "    model = ml.Sequential()\n",
    "    model.add(l.Dense(128, input_dim=X_train.shape[1], activation='relu'))\n",
    "    model.add(l.Dense(11, activation='softmax'))\n",
    "\n",
    "    # model compile\n",
    "    model.compile(loss='categorical_crossentropy', optimizer='adam', metrics=['accuracy'])\n",
    "\n",
    "    # model train\n",
    "    model.fit(x_train_fold, y_train_fold_nn, epochs=100, batch_size=32, verbose=0)\n",
    "\n",
    "    # prediction\n",
    "    pred_fold_nn = model.predict(x_val_fold)\n",
    "    yhat_fold_nn = ohe.inverse_transform(pred_fold_nn)\n",
    "    \n",
    "    # prepare data\n",
    "    y_val_fold_nn = y_val_fold.to_numpy()\n",
    "    yhat_cv = yhat_fold_nn.reshape(1,-1)[0]\n",
    "\n",
    "    # metrics\n",
    "    ## Balanced Accuracy\n",
    "    balanced_acc_nn_cv = m.balanced_accuracy_score(y_val_fold_nn, yhat_cv)\n",
    "    balanced_acc_list.append(balanced_acc_nn_cv)\n",
    "    \n",
    "    ## Kappa Metrics\n",
    "    kappa_acc_nn_cv = m.cohen_kappa_score(y_val_fold_nn, yhat_cv)\n",
    "    kappa_acc_list.append(kappa_acc_nn_cv)\n",
    "    \n",
    "    i += 1"
   ]
  },
  {
   "cell_type": "code",
   "execution_count": null,
   "id": "b786eb83-22f4-47bc-96a9-5a0e74699e1e",
   "metadata": {},
   "outputs": [],
   "source": [
    "print('Avg Balanced Accuracy: {} +/- {}'.format(np.mean(balanced_acc_list), np.std(balanced_acc_list)))\n",
    "print('Avg Kappa: {} +/- {}'.format(np.mean(kappa_acc_list), np.std(kappa_acc_list)))"
   ]
  },
  {
   "cell_type": "code",
   "execution_count": null,
   "id": "d21f1f11-f9f8-436d-b71b-fa8a7b4a23ae",
   "metadata": {},
   "outputs": [],
   "source": []
  },
  {
   "cell_type": "code",
   "execution_count": null,
   "id": "1f4e9aab-8919-444d-bea2-ae0925f9e8d0",
   "metadata": {},
   "outputs": [],
   "source": []
  }
 ],
 "metadata": {
  "kernelspec": {
   "display_name": "Python 3 (ipykernel)",
   "language": "python",
   "name": "python3"
  },
  "language_info": {
   "codemirror_mode": {
    "name": "ipython",
    "version": 3
   },
   "file_extension": ".py",
   "mimetype": "text/x-python",
   "name": "python",
   "nbconvert_exporter": "python",
   "pygments_lexer": "ipython3",
   "version": "3.8.10"
  }
 },
 "nbformat": 4,
 "nbformat_minor": 5
}
